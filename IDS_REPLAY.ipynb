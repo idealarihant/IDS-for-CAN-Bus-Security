{
 "cells": [
  {
   "cell_type": "code",
   "execution_count": 1,
   "metadata": {},
   "outputs": [],
   "source": [
    "import pandas as pd\n",
    "import numpy as np\n",
    "import warnings\n",
    "from sklearn.model_selection import train_test_split\n",
    "from keras.models import Sequential\n",
    "from keras.layers import Conv1D,Conv2D,MaxPooling2D\n",
    "from keras.layers import MaxPool1D\n",
    "from keras.layers import Flatten\n",
    "from keras.layers import Dense\n",
    "from keras.optimizers import Adam\n",
    "import tensorflow as tf\n",
    "from PIL import Image\n",
    "from sklearn.metrics import classification_report,roc_auc_score\n",
    "warnings.filterwarnings(\"ignore\")"
   ]
  },
  {
   "cell_type": "code",
   "execution_count": 2,
   "metadata": {},
   "outputs": [],
   "source": [
    "df=pd.read_csv(\"Replay_Attack_Data.csv\") \n",
    "df['Class'] = df['Class'].replace('Normal', 0)\n",
    "df['Class'] = df['Class'].replace('Attack', 1)\n",
    "# df[\"Arbitration_ID\"]=df[\"Arbitration_ID\"].apply(int,base=16)\n",
    "lis=[]\n",
    "for i in range(df[\"Data\"].size):\n",
    "    if type(df[\"Data\"][i]) == float:\n",
    "        lis.append(i)\n",
    "df=df.drop(lis,axis=0)\n",
    "df=df.reset_index()\n",
    "df=df.drop([\"index\",\"Timestamp\"],axis=1)\n",
    "for i in range(df[\"Data\"].size):\n",
    "        df[\"Data\"][i]=int(\"\".join([format(x, 'd') for x in [int(value, 16) for value in df[\"Data\"][i].split(\" \")]]))\n",
    "df[\"Data\"]=(df[\"Data\"]-df[\"Data\"].min())/(df[\"Data\"].max()-df[\"Data\"].min())\n",
    "df[\"Data\"]=df[\"Data\"].astype(\"float64\")\n",
    "df[\"DLC\"]=(df[\"DLC\"]-df[\"DLC\"].min())/(df[\"DLC\"].max()-df[\"DLC\"].min())\n",
    "df[\"Arbitration_ID\"]=(df[\"Arbitration_ID\"]-df[\"Arbitration_ID\"].min())/(df[\"Arbitration_ID\"].max()-df[\"Arbitration_ID\"].min())"
   ]
  },
  {
   "cell_type": "code",
   "execution_count": 3,
   "metadata": {},
   "outputs": [],
   "source": [
    "X=df.iloc[:,:-1].values\n",
    "X = (X - np.min(X)) * (255 / (np.max(X) - np.min(X)))\n",
    "X = X.astype(np.uint8)\n",
    "y=df.iloc[:,-1].values\n",
    "l=[]\n",
    "for i in range(len(X)):\n",
    "    img=Image.fromarray(X[i], mode='L')\n",
    "    l.append(np.array(img.resize((50,3))))\n",
    "l=np.array(l)\n",
    "l=l.reshape(l.shape[0],50,3)\n",
    "X_train,X_test,y_train,y_test=train_test_split(l,y,test_size=0.3,random_state=True)\n",
    "X_train,X_validation,y_train,y_validation=train_test_split(X_train,y_train,test_size=0.2,random_state=True)"
   ]
  },
  {
   "cell_type": "code",
   "execution_count": 9,
   "metadata": {},
   "outputs": [
    {
     "name": "stdout",
     "output_type": "stream",
     "text": [
      "<bound method Model.summary of <keras.engine.sequential.Sequential object at 0x00000218A84EE800>>\n",
      "Model: \"sequential_2\"\n",
      "_________________________________________________________________\n",
      " Layer (type)                Output Shape              Param #   \n",
      "=================================================================\n",
      " conv1d_4 (Conv1D)           (None, 50, 5)             80        \n",
      "                                                                 \n",
      " max_pooling1d_4 (MaxPooling  (None, 10, 5)            0         \n",
      " 1D)                                                             \n",
      "                                                                 \n",
      " conv1d_5 (Conv1D)           (None, 10, 20)            520       \n",
      "                                                                 \n",
      " max_pooling1d_5 (MaxPooling  (None, 1, 20)            0         \n",
      " 1D)                                                             \n",
      "                                                                 \n",
      " flatten_2 (Flatten)         (None, 20)                0         \n",
      "                                                                 \n",
      " dense_4 (Dense)             (None, 500)               10500     \n",
      "                                                                 \n",
      " dense_5 (Dense)             (None, 1)                 501       \n",
      "                                                                 \n",
      "=================================================================\n",
      "Total params: 11,601\n",
      "Trainable params: 11,601\n",
      "Non-trainable params: 0\n",
      "_________________________________________________________________\n",
      "None\n"
     ]
    }
   ],
   "source": [
    "model=Sequential()\n",
    "model.add(Conv1D(filters=5, kernel_size=(5), activation='relu',input_shape=(50,3),padding=\"same\"))\n",
    "model.add(MaxPool1D(pool_size=(5)))\n",
    "model.add(Conv1D(filters=20, kernel_size=(5), activation='relu',padding=\"same\"))\n",
    "model.add(MaxPool1D(pool_size=10))\n",
    "model.add(Flatten())\n",
    "print(model.summary)\n",
    "model.add(Dense(500,activation='relu'))\n",
    "model.add(Dense(1,activation='sigmoid'))\n",
    "adam = Adam(learning_rate=0.001)\n",
    "print(model.summary())\n",
    "model.compile(loss='binary_crossentropy',optimizer='adam',metrics=[\"accuracy\"])"
   ]
  },
  {
   "cell_type": "code",
   "execution_count": 10,
   "metadata": {},
   "outputs": [
    {
     "name": "stdout",
     "output_type": "stream",
     "text": [
      "Epoch 1/10\n",
      "1971/1971 [==============================] - 8s 3ms/step - loss: 0.4415 - accuracy: 0.5552 - val_loss: 0.3051 - val_accuracy: 0.5505\n",
      "Epoch 2/10\n",
      "1971/1971 [==============================] - 7s 3ms/step - loss: 0.2710 - accuracy: 0.5552 - val_loss: 0.2520 - val_accuracy: 0.5505\n",
      "Epoch 3/10\n",
      "1971/1971 [==============================] - 8s 4ms/step - loss: 0.2505 - accuracy: 0.5552 - val_loss: 0.2478 - val_accuracy: 0.5505\n",
      "Epoch 4/10\n",
      "1971/1971 [==============================] - 8s 4ms/step - loss: 0.2493 - accuracy: 0.5552 - val_loss: 0.2477 - val_accuracy: 0.5505\n",
      "Epoch 5/10\n",
      "1971/1971 [==============================] - 9s 4ms/step - loss: 0.2493 - accuracy: 0.5552 - val_loss: 0.2477 - val_accuracy: 0.5505\n",
      "Epoch 6/10\n",
      "1971/1971 [==============================] - 10s 5ms/step - loss: 0.2493 - accuracy: 0.5552 - val_loss: 0.2477 - val_accuracy: 0.5505\n",
      "Epoch 7/10\n",
      "1971/1971 [==============================] - 9s 4ms/step - loss: 0.2493 - accuracy: 0.5552 - val_loss: 0.2477 - val_accuracy: 0.5505\n",
      "Epoch 8/10\n",
      "1971/1971 [==============================] - 9s 5ms/step - loss: 0.2493 - accuracy: 0.5552 - val_loss: 0.2478 - val_accuracy: 0.5505\n",
      "Epoch 9/10\n",
      "1971/1971 [==============================] - 8s 4ms/step - loss: 0.2493 - accuracy: 0.5552 - val_loss: 0.2477 - val_accuracy: 0.5505\n",
      "Epoch 10/10\n",
      "1971/1971 [==============================] - 8s 4ms/step - loss: 0.2493 - accuracy: 0.5552 - val_loss: 0.2477 - val_accuracy: 0.5505\n"
     ]
    }
   ],
   "source": [
    "history = model.fit(X_train, y_train, epochs=10, validation_data=(X_validation, y_validation))"
   ]
  },
  {
   "cell_type": "code",
   "execution_count": null,
   "metadata": {},
   "outputs": [],
   "source": []
  },
  {
   "cell_type": "code",
   "execution_count": 6,
   "metadata": {},
   "outputs": [
    {
     "name": "stdout",
     "output_type": "stream",
     "text": [
      "1056/1056 [==============================] - 2s 2ms/step - loss: 0.2538 - accuracy: 0.5514\n",
      "1056/1056 [==============================] - 2s 2ms/step\n"
     ]
    }
   ],
   "source": [
    "loss, accuracy = model.evaluate(X_test, y_test)\n",
    "y_score=model.predict(X_test)\n"
   ]
  },
  {
   "cell_type": "code",
   "execution_count": 13,
   "metadata": {},
   "outputs": [
    {
     "data": {
      "image/png": "[encoded data removed]",
      "text/plain": [
       "<Figure size 432x288 with 1 Axes>"
      ]
     },
     "metadata": {
      "needs_background": "light"
     },
     "output_type": "display_data"
    }
   ],
   "source": [
    "import matplotlib.pyplot as plt\n",
    "plt.plot(history.history['accuracy'],color='blue',label='accuracy')\n",
    "# plt.plot(history.history['val_accuracy'],color='green',label='validation accuracy')\n",
    "# plt.plot(history.history['val_accuracy'])\n",
    "plt.title('CNN Model Accuracy')\n",
    "# plt.ylabel('')\n",
    "plt.xlabel('Epochs')\n",
    "plt.legend()\n",
    "# plt.Color()\n",
    "# plt.legend(['Train', 'Test'], loc='upper left')\n",
    "plt.show()"
   ]
  }
 ],
 "metadata": {
  "kernelspec": {
   "display_name": "Python 3",
   "language": "python",
   "name": "python3"
  },
  "language_info": {
   "codemirror_mode": {
    "name": "ipython",
    "version": 3
   },
   "file_extension": ".py",
   "mimetype": "text/x-python",
   "name": "python",
   "nbconvert_exporter": "python",
   "pygments_lexer": "ipython3",
   "version": "3.10.4"
  },
  "orig_nbformat": 4
 },
 "nbformat": 4,
 "nbformat_minor": 2
}
