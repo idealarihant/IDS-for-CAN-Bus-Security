{
 "cells": [
  {
   "cell_type": "code",
   "execution_count": 1,
   "metadata": {},
   "outputs": [],
   "source": [
    "import numpy as np\n",
    "import re\n",
    "import random"
   ]
  },
  {
   "cell_type": "code",
   "execution_count": 2,
   "metadata": {},
   "outputs": [],
   "source": [
    "data=[]\n",
    "with open(\"formatted_datalog.txt\") as f:\n",
    "    data.extend([re.sub(r\"\\s+(\\d+\\.\\d+)\\s+\\d+\\s+([\\da-f]{3})\\s+[A-Za-z]{2}\\s+[d]{1}\\s+(\\d+)\\s+(\\s+[\\da-f]{2})*\", r\"Normal@\\1@\\2@\\3@\\4\", lines).strip(\"\\n\").split(\"@\") for lines in f.readlines()])\n",
    "cframes=np.array(data)\n",
    "timestamp = []\n",
    "for i in cframes:\n",
    "    j=float(i[1])\n",
    "    timestamp.append(j)\n",
    "time_diff =[]\n",
    "last = 0\n",
    "for i in timestamp:\n",
    "    time_diff.append(i-last)\n",
    "    last=i\n",
    "timestamp_np=np.array(timestamp)\n",
    "time_diff_np=np.array(time_diff)\n",
    "avg_time_diff=np.average(time_diff_np)\n",
    "indexes=np.where(time_diff_np <= avg_time_diff)[0]\n",
    "arb_id=[]\n",
    "for i in cframes:\n",
    "    j=int(i[2])\n",
    "    arb_id.append(j)\n",
    "aid=np.array(arb_id)\n"
   ]
  },
  {
   "cell_type": "code",
   "execution_count": 3,
   "metadata": {},
   "outputs": [
    {
     "data": {
      "text/plain": [
       "['Normal', '0.000000', '280', '8', '00 00 A3 7E 00 00 00 00']"
      ]
     },
     "execution_count": 3,
     "metadata": {},
     "output_type": "execute_result"
    }
   ],
   "source": [
    "data[0]"
   ]
  },
  {
   "cell_type": "code",
   "execution_count": 3,
   "metadata": {},
   "outputs": [],
   "source": [
    "aid_summary=np.unique(aid,return_index=True)\n",
    "id_picked=np.random.choice(aid_summary[0],size=2)\n",
    "\n",
    "index_1=aid_summary[1][np.where(aid_summary[0]==id_picked[0])[0][0]]\n",
    "index_2=aid_summary[1][np.where(aid_summary[0]==id_picked[1])[0][0]]\n",
    "l_1=data[index_1]\n",
    "l_2=data[index_2]\n",
    "Replay_frame=[]\n",
    "threshold=0.001"
   ]
  },
  {
   "cell_type": "code",
   "execution_count": 4,
   "metadata": {},
   "outputs": [],
   "source": [
    "aid_summary=np.unique(aid,return_index=True)\n",
    "aid_summary[1]\n",
    "id_picked=np.random.choice(aid_summary[0])\n",
    "aid_summary\n",
    "index=aid_summary[1][np.where(aid_summary[0]==id_picked)[0][0]]\n",
    "l=data[index]\n",
    "Replay_frame=[]\n",
    "threshold=0.001\n",
    "cframe_pointer=0\n",
    "extra=0\n",
    "for i in indexes:\n",
    "    while(cframe_pointer<=i):\n",
    "        Replay_frame.append(data[cframe_pointer])\n",
    "        cframe_pointer+=1\n",
    "    number=int((time_diff[i])//(threshold))\n",
    "    extra+=number\n",
    "    for k in range(number):\n",
    "        a=[\"Attack\",str(round((timestamp[i]+(threshold*(k+1))),6)),l_1[2],l_1[3],l_1[4]]\n",
    "        b=[\"Attack\",str(round((timestamp[i]+(threshold*(k+1))),6)),l_2[2],l_2[3],l_2[4]]\n",
    "        if (random.choice([True,False])):\n",
    "            Replay_frame.append(a)\n",
    "        else:\n",
    "            Replay_frame.append(b)"
   ]
  },
  {
   "cell_type": "code",
   "execution_count": 5,
   "metadata": {},
   "outputs": [
    {
     "data": {
      "text/plain": [
       "59065"
      ]
     },
     "execution_count": 5,
     "metadata": {},
     "output_type": "execute_result"
    }
   ],
   "source": [
    "extra"
   ]
  },
  {
   "cell_type": "code",
   "execution_count": 6,
   "metadata": {},
   "outputs": [],
   "source": [
    "with open('Replay_Attack_Data.txt', 'w') as fw:\n",
    "    for a in Replay_frame:\n",
    "        line = ','.join(str(x) for x in a)\n",
    "        fw.write(line+'\\n')"
   ]
  }
 ],
 "metadata": {
  "kernelspec": {
   "display_name": "Python 3",
   "language": "python",
   "name": "python3"
  },
  "language_info": {
   "codemirror_mode": {
    "name": "ipython",
    "version": 3
   },
   "file_extension": ".py",
   "mimetype": "text/x-python",
   "name": "python",
   "nbconvert_exporter": "python",
   "pygments_lexer": "ipython3",
   "version": "3.10.4"
  },
  "orig_nbformat": 4
 },
 "nbformat": 4,
 "nbformat_minor": 2
}
