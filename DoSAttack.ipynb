{
 "cells": [
  {
   "cell_type": "code",
   "execution_count": 23,
   "metadata": {},
   "outputs": [],
   "source": [
    "import numpy as np\n",
    "import re\n",
    "import random\n",
    "import math"
   ]
  },
  {
   "cell_type": "code",
   "execution_count": 24,
   "metadata": {},
   "outputs": [],
   "source": [
    "data=[]\n",
    "with open(\"formatted_datalog.txt\") as f:\n",
    "    data.extend([re.sub(r\"\\s+(\\d+\\.\\d+)\\s+\\d+\\s+([\\da-f]{3})\\s+[A-Za-z]{2}\\s+[d]{1}\\s+(\\d+)\\s+(\\s+[\\da-f]{2})*\", r\"Normal@\\1@\\2@\\3@\\4\", lines).strip(\"\\n\").split(\"@\") for lines in f.readlines()])\n",
    "with open('Attack_Free_Data.txt', 'w') as fw:\n",
    "    for sublist in data:\n",
    "        line = ','.join(str(x) for x in sublist)\n",
    "        fw.write(line+'\\n')\n",
    "cframes=np.array(data)\n",
    "timestamp = []\n",
    "for i in cframes:\n",
    "    j=float(i[1])\n",
    "    timestamp.append(j)\n",
    "time_diff =[]\n",
    "last = 0\n",
    "for i in timestamp:\n",
    "    time_diff.append(i-last)\n",
    "    last=i\n",
    "timestamp_np=np.array(timestamp)\n",
    "time_diff_np=np.array(time_diff)\n",
    "avg_time_diff=np.average(time_diff_np)\n",
    "indexes=np.where(time_diff_np <= avg_time_diff)[0]\n",
    "l=indexes.size\n",
    "k=math.floor(l*0.6)\n",
    "selected_index=random.choices(indexes,k=k)"
   ]
  },
  {
   "cell_type": "code",
   "execution_count": 25,
   "metadata": {},
   "outputs": [],
   "source": [
    "DoS_frame=[]\n",
    "threshold=0.0009\n",
    "cframe_pointer=0\n",
    "extra=0\n",
    "for i in indexes:\n",
    "    while(cframe_pointer<=i):\n",
    "        DoS_frame.append(data[cframe_pointer])\n",
    "        cframe_pointer+=1\n",
    "    number=int((time_diff[i])//(threshold))\n",
    "    extra+=number\n",
    "    for k in range(number):\n",
    "        l=[\"Attack\",str(round((timestamp[i]+(threshold*(k+1))),6)),\"000\",\"8\",\"00 00 00 00 00 00 00 00\"]\n",
    "        f=[\"Attack\",str(round((timestamp[i]+(threshold*(k+1))),6)),\"100\",\"8\",\"00 00 00 00 00 00 00 46\"]\n",
    "        if (random.choice([True,False])):\n",
    "            DoS_frame.append(l)\n",
    "        else:\n",
    "            DoS_frame.append(f)\n",
    "        "
   ]
  },
  {
   "cell_type": "code",
   "execution_count": 26,
   "metadata": {},
   "outputs": [
    {
     "data": {
      "text/plain": [
       "72558"
      ]
     },
     "execution_count": 26,
     "metadata": {},
     "output_type": "execute_result"
    }
   ],
   "source": [
    "extra"
   ]
  },
  {
   "cell_type": "code",
   "execution_count": 27,
   "metadata": {},
   "outputs": [],
   "source": [
    "with open('DoS_Attack_Data.txt', 'w') as fw:\n",
    "    for a in DoS_frame:\n",
    "        line = ','.join(str(x) for x in a)\n",
    "        fw.write(line+'\\n')"
   ]
  }
 ],
 "metadata": {
  "kernelspec": {
   "display_name": "Python 3",
   "language": "python",
   "name": "python3"
  },
  "language_info": {
   "codemirror_mode": {
    "name": "ipython",
    "version": 3
   },
   "file_extension": ".py",
   "mimetype": "text/x-python",
   "name": "python",
   "nbconvert_exporter": "python",
   "pygments_lexer": "ipython3",
   "version": "3.10.4"
  },
  "orig_nbformat": 4
 },
 "nbformat": 4,
 "nbformat_minor": 2
}
