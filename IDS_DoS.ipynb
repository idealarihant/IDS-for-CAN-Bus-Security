{
 "cells": [
  {
   "cell_type": "code",
   "execution_count": 3,
   "metadata": {},
   "outputs": [],
   "source": [
    "import pandas as pd\n",
    "import numpy as np\n",
    "import warnings\n",
    "from sklearn.model_selection import train_test_split\n",
    "from keras.models import Sequential\n",
    "from keras.layers import Conv1D,Conv2D,MaxPooling2D\n",
    "from keras.layers import MaxPool1D\n",
    "from keras.layers import Flatten\n",
    "from keras.layers import Dense\n",
    "from keras.optimizers import Adam\n",
    "import tensorflow as tf\n",
    "from PIL import Image\n",
    "from sklearn.metrics import classification_report,roc_auc_score\n",
    "warnings.filterwarnings(\"ignore\")"
   ]
  },
  {
   "cell_type": "code",
   "execution_count": 4,
   "metadata": {},
   "outputs": [],
   "source": [
    "df=pd.read_csv(\"D:\\IIT-Delhi\\Semester-2\\JCD891-Minor Project -Securing Automotive Networks\\Attack_Data_DoS.csv\") \n",
    "df['Class'] = df['Class'].replace('Normal', 0)\n",
    "df['Class'] = df['Class'].replace('Attack', 1)\n",
    "# df[\"Arbitration_ID\"]=df[\"Arbitration_ID\"].apply(int,base=16)\n",
    "lis=[]\n",
    "for i in range(df[\"Data\"].size):\n",
    "    if type(df[\"Data\"][i]) == float:\n",
    "        lis.append(i)\n",
    "df=df.drop(lis,axis=0)\n",
    "df=df.reset_index()\n",
    "df=df.drop([\"index\",\"Timestamp\"],axis=1)\n",
    "for i in range(df[\"Data\"].size):\n",
    "        df[\"Data\"][i]=int(\"\".join([format(x, 'd') for x in [int(value, 16) for value in df[\"Data\"][i].split(\" \")]]))\n",
    "df[\"Data\"]=(df[\"Data\"]-df[\"Data\"].min())/(df[\"Data\"].max()-df[\"Data\"].min())\n",
    "df[\"Data\"]=df[\"Data\"].astype(\"float64\")\n",
    "df[\"DLC\"]=(df[\"DLC\"]-df[\"DLC\"].min())/(df[\"DLC\"].max()-df[\"DLC\"].min())\n",
    "df[\"Arbitration_ID\"]=(df[\"Arbitration_ID\"]-df[\"Arbitration_ID\"].min())/(df[\"Arbitration_ID\"].max()-df[\"Arbitration_ID\"].min())"
   ]
  },
  {
   "cell_type": "code",
   "execution_count": 5,
   "metadata": {},
   "outputs": [],
   "source": [
    "X=df.iloc[:,:-1].values\n",
    "X = (X - np.min(X)) * (255 / (np.max(X) - np.min(X)))\n",
    "X = X.astype(np.uint8)\n",
    "y=df.iloc[:,-1].values\n",
    "l=[]\n",
    "for i in range(len(X)):\n",
    "    img=Image.fromarray(X[i], mode='L')\n",
    "    l.append(np.array(img.resize((50,3))))\n",
    "l=np.array(l)\n",
    "l=l.reshape(l.shape[0],50,3)\n",
    "X_train,X_test,y_train,y_test=train_test_split(l,y,test_size=0.2,random_state=True)\n",
    "X_train,X_validation,y_train,y_validation=train_test_split(X_train,y_train,test_size=0.2,random_state=True)"
   ]
  },
  {
   "cell_type": "code",
   "execution_count": 6,
   "metadata": {},
   "outputs": [
    {
     "name": "stdout",
     "output_type": "stream",
     "text": [
      "<bound method Model.summary of <keras.engine.sequential.Sequential object at 0x00000240F42FFF70>>\n",
      "Model: \"sequential\"\n",
      "_________________________________________________________________\n",
      " Layer (type)                Output Shape              Param #   \n",
      "=================================================================\n",
      " conv1d (Conv1D)             (None, 50, 5)             80        \n",
      "                                                                 \n",
      " max_pooling1d (MaxPooling1D  (None, 10, 5)            0         \n",
      " )                                                               \n",
      "                                                                 \n",
      " conv1d_1 (Conv1D)           (None, 10, 20)            520       \n",
      "                                                                 \n",
      " max_pooling1d_1 (MaxPooling  (None, 1, 20)            0         \n",
      " 1D)                                                             \n",
      "                                                                 \n",
      " flatten (Flatten)           (None, 20)                0         \n",
      "                                                                 \n",
      " dense (Dense)               (None, 500)               10500     \n",
      "                                                                 \n",
      " dense_1 (Dense)             (None, 1)                 501       \n",
      "                                                                 \n",
      "=================================================================\n",
      "Total params: 11,601\n",
      "Trainable params: 11,601\n",
      "Non-trainable params: 0\n",
      "_________________________________________________________________\n",
      "None\n"
     ]
    }
   ],
   "source": [
    "model=Sequential()\n",
    "model.add(Conv1D(filters=5, kernel_size=(5), activation='relu',input_shape=(50,3),padding=\"same\"))\n",
    "model.add(MaxPool1D(pool_size=(5)))\n",
    "model.add(Conv1D(filters=20, kernel_size=(5), activation='relu',padding=\"same\"))\n",
    "model.add(MaxPool1D(pool_size=10))\n",
    "model.add(Flatten())\n",
    "print(model.summary)\n",
    "model.add(Dense(500,activation='relu'))\n",
    "model.add(Dense(1,activation='sigmoid'))\n",
    "adam = Adam(learning_rate=0.001)\n",
    "print(model.summary())\n",
    "model.compile(loss='binary_crossentropy',optimizer='adam',metrics=[\"accuracy\"])"
   ]
  },
  {
   "cell_type": "code",
   "execution_count": null,
   "metadata": {},
   "outputs": [],
   "source": []
  },
  {
   "cell_type": "code",
   "execution_count": 7,
   "metadata": {},
   "outputs": [
    {
     "name": "stdout",
     "output_type": "stream",
     "text": [
      "Epoch 1/10\n",
      "11412/11412 [==============================] - 36s 3ms/step - loss: 0.1869 - accuracy: 0.2015 - val_loss: 0.1283 - val_accuracy: 0.2023\n",
      "Epoch 2/10\n",
      "11412/11412 [==============================] - 33s 3ms/step - loss: 0.1278 - accuracy: 0.2015 - val_loss: 0.1283 - val_accuracy: 0.2023\n",
      "Epoch 3/10\n",
      "11412/11412 [==============================] - 39s 3ms/step - loss: 0.1278 - accuracy: 0.2015 - val_loss: 0.1283 - val_accuracy: 0.2023\n",
      "Epoch 4/10\n",
      "11412/11412 [==============================] - 39s 3ms/step - loss: 0.1278 - accuracy: 0.2015 - val_loss: 0.1284 - val_accuracy: 0.2023\n",
      "Epoch 5/10\n",
      "11412/11412 [==============================] - 39s 3ms/step - loss: 0.1278 - accuracy: 0.2015 - val_loss: 0.1283 - val_accuracy: 0.2023\n",
      "Epoch 6/10\n",
      "11412/11412 [==============================] - 39s 3ms/step - loss: 0.1278 - accuracy: 0.2015 - val_loss: 0.1284 - val_accuracy: 0.2023\n",
      "Epoch 7/10\n",
      "11412/11412 [==============================] - 39s 3ms/step - loss: 0.1278 - accuracy: 0.2015 - val_loss: 0.1283 - val_accuracy: 0.2023\n",
      "Epoch 8/10\n",
      "11412/11412 [==============================] - 39s 3ms/step - loss: 0.1278 - accuracy: 0.2015 - val_loss: 0.1283 - val_accuracy: 0.2023\n",
      "Epoch 9/10\n",
      "11412/11412 [==============================] - 40s 4ms/step - loss: 0.1278 - accuracy: 0.2015 - val_loss: 0.1283 - val_accuracy: 0.2023\n",
      "Epoch 10/10\n",
      "11412/11412 [==============================] - 40s 3ms/step - loss: 0.1278 - accuracy: 0.2015 - val_loss: 0.1283 - val_accuracy: 0.2023\n"
     ]
    }
   ],
   "source": [
    "history = model.fit(X_train, y_train, epochs=10, validation_data=(X_validation, y_validation))"
   ]
  },
  {
   "cell_type": "code",
   "execution_count": 8,
   "metadata": {},
   "outputs": [
    {
     "name": "stdout",
     "output_type": "stream",
     "text": [
      "3567/3567 [==============================] - 6s 2ms/step - loss: 0.1276 - accuracy: 0.2010\n",
      "3567/3567 [==============================] - 5s 1ms/step\n"
     ]
    }
   ],
   "source": [
    "loss, accuracy = model.evaluate(X_test, y_test)\n",
    "y_score=model.predict(X_test)\n"
   ]
  },
  {
   "cell_type": "code",
   "execution_count": null,
   "metadata": {},
   "outputs": [],
   "source": []
  }
 ],
 "metadata": {
  "kernelspec": {
   "display_name": "Python 3",
   "language": "python",
   "name": "python3"
  },
  "language_info": {
   "codemirror_mode": {
    "name": "ipython",
    "version": 3
   },
   "file_extension": ".py",
   "mimetype": "text/x-python",
   "name": "python",
   "nbconvert_exporter": "python",
   "pygments_lexer": "ipython3",
   "version": "3.10.4"
  },
  "orig_nbformat": 4
 },
 "nbformat": 4,
 "nbformat_minor": 2
}
